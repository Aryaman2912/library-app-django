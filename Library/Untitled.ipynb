{
 "cells": [
  {
   "cell_type": "code",
   "execution_count": 3,
   "metadata": {},
   "outputs": [
    {
     "ename": "SyntaxError",
     "evalue": "unexpected EOF while parsing (<ipython-input-3-2bb6cc67ed03>, line 1)",
     "output_type": "error",
     "traceback": [
      "\u001b[1;36m  File \u001b[1;32m\"<ipython-input-3-2bb6cc67ed03>\"\u001b[1;36m, line \u001b[1;32m1\u001b[0m\n\u001b[1;33m    if len(s) < (r * c):\u001b[0m\n\u001b[1;37m                        ^\u001b[0m\n\u001b[1;31mSyntaxError\u001b[0m\u001b[1;31m:\u001b[0m unexpected EOF while parsing\n"
     ]
    }
   ],
   "source": [
    "if len(s) < (r * c):"
   ]
  },
  {
   "cell_type": "code",
   "execution_count": 4,
   "metadata": {},
   "outputs": [
    {
     "ename": "SyntaxError",
     "evalue": "invalid syntax (<ipython-input-4-155fa5819f43>, line 6)",
     "output_type": "error",
     "traceback": [
      "\u001b[1;36m  File \u001b[1;32m\"<ipython-input-4-155fa5819f43>\"\u001b[1;36m, line \u001b[1;32m6\u001b[0m\n\u001b[1;33m    if len(s) < (r * c):\u001b[0m\n\u001b[1;37m                       ^\u001b[0m\n\u001b[1;31mSyntaxError\u001b[0m\u001b[1;31m:\u001b[0m invalid syntax\n"
     ]
    }
   ],
   "source": [
    "import math\n",
    "\n",
    "s = input()\n",
    "s.replace(\" \",\"\")\n",
    "r = math.ceil(math.sqrt(len(s))) - 1\n",
    "c = math.ceil(math.sqrt(len(s))\n",
    "if len(s) < (r * c):\n",
    "    r = r + 1\n",
    "\n",
    "u = ['']*r\n",
    "k = 0\n",
    "q = ['']*c\n",
    "for i in range(r):\n",
    "    u[i] = s[k:k+c]\n",
    "    k = k + c\n",
    "\n",
    "for j in range(c):\n",
    "    q[j] = ''.join([u[i][j] for i in range(r)])\n",
    "\n",
    "print(' '.join(q))\n",
    "\n"
   ]
  },
  {
   "cell_type": "code",
   "execution_count": null,
   "metadata": {},
   "outputs": [],
   "source": []
  }
 ],
 "metadata": {
  "kernelspec": {
   "display_name": "Python 3",
   "language": "python",
   "name": "python3"
  },
  "language_info": {
   "codemirror_mode": {
    "name": "ipython",
    "version": 3
   },
   "file_extension": ".py",
   "mimetype": "text/x-python",
   "name": "python",
   "nbconvert_exporter": "python",
   "pygments_lexer": "ipython3",
   "version": "3.7.4"
  }
 },
 "nbformat": 4,
 "nbformat_minor": 2
}
